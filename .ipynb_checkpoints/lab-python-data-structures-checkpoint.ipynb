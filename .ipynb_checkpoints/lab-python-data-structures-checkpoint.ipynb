{
 "cells": [
  {
   "cell_type": "markdown",
   "metadata": {
    "tags": []
   },
   "source": [
    "# Lab | Data Structures "
   ]
  },
  {
   "cell_type": "markdown",
   "metadata": {},
   "source": [
    "## Exercise: Managing Customer Orders\n",
    "\n",
    "As part of a business venture, you are starting an online store that sells various products. To ensure smooth operations, you need to develop a program that manages customer orders and inventory.\n",
    "\n",
    "Follow the steps below to complete the exercise:\n",
    "\n",
    "1. Define a list called `products` that contains the following items: \"t-shirt\", \"mug\", \"hat\", \"book\", \"keychain\".\n",
    "\n",
    "2. Create an empty dictionary called `inventory`.\n",
    "\n",
    "3. Ask the user to input the quantity of each product available in the inventory. Use the product names from the `products` list as keys in the `inventory` dictionary and assign the respective quantities as values.\n",
    "\n",
    "4. Create an empty set called `customer_orders`.\n",
    "\n",
    "5. Ask the user to input the name of three products that a customer wants to order (from those in the products list, meaning three products out of \"t-shirt\", \"mug\", \"hat\", \"book\" or \"keychain\". Add each product name to the `customer_orders` set.\n",
    "\n",
    "6. Print the products in the `customer_orders` set.\n",
    "\n",
    "7. Calculate the following order statistics:\n",
    "   - Total Products Ordered: The total number of products in the `customer_orders` set.\n",
    "   - Percentage of Products Ordered: The percentage of products ordered compared to the total available products.\n",
    "   \n",
    "   Store these statistics in a tuple called `order_status`.\n",
    "\n",
    "8. Print the order statistics using the following format:\n",
    "   ```\n",
    "   Order Statistics:\n",
    "   Total Products Ordered: <total_products_ordered>\n",
    "   Percentage of Products Ordered: <percentage_ordered>% \n",
    "   ```\n",
    "\n",
    "9. Update the inventory by subtracting 1 from the quantity of each product. Modify the `inventory` dictionary accordingly.\n",
    "\n",
    "10. Print the updated inventory, displaying the quantity of each product on separate lines.\n",
    "\n",
    "Solve the exercise by implementing the steps using the Python concepts of lists, dictionaries, sets, and basic input/output operations. "
   ]
  },
  {
   "cell_type": "code",
   "execution_count": 64,
   "metadata": {
    "vscode": {
     "languageId": "plaintext"
    }
   },
   "outputs": [
    {
     "name": "stdout",
     "output_type": "stream",
     "text": [
      "please enter the quantity of t-shirt 6\n",
      "please enter the quantity of mug 5\n",
      "please enter the quantity of hat 7\n",
      "please enter the quantity of book 8\n",
      "please enter the quantity of keychain 9\n",
      "{'t-shirt': 6, 'mug': 5, 'hat': 7, 'book': 8, 'keychain': 9}\n"
     ]
    }
   ],
   "source": [
    "products =[\"t-shirt\", \"mug\", \"hat\", \"book\", \"keychain\"]\n",
    "inventory = {}\n",
    "for element in products:\n",
    "    Values = int(input(f'please enter the quantity of {element} '))\n",
    "    inventory[element] = Values\n",
    "print(inventory)"
   ]
  },
  {
   "cell_type": "code",
   "execution_count": 65,
   "metadata": {},
   "outputs": [
    {
     "name": "stdout",
     "output_type": "stream",
     "text": [
      "please enter the name of a product from the follwoing list:t-shirt, mug, hat, book, keychain t\n",
      "I think you did not enter the name correctly\n",
      "please enter the name of a product from the follwoing list:t-shirt, mug, hat, book, keychain mug\n",
      "please enter the name of a product from the follwoing list:t-shirt, mug, hat, book, keychain book\n",
      "please enter the name of a product from the follwoing list:t-shirt, mug, hat, book, keychain h\n",
      "I think you did not enter the name correctly\n",
      "please enter the name of a product from the follwoing list:t-shirt, mug, hat, book, keychain hat\n",
      "{'book', 'hat', 'mug'}\n"
     ]
    }
   ],
   "source": [
    "customer_orders =set()\n",
    "\n",
    "for i in range(3):\n",
    "    requests= input('please enter the name of a product from the follwoing list:t-shirt, mug, hat, book, keychain ')\n",
    "    \n",
    "    while requests not in products:\n",
    "        print('I think you did not enter the name correctly')\n",
    "        requests= input('please enter the name of a product from the follwoing list:t-shirt, mug, hat, book, keychain ')\n",
    "        \n",
    "    customer_orders.add(requests)   \n",
    "\n",
    "print(customer_orders)"
   ]
  },
  {
   "cell_type": "code",
   "execution_count": 66,
   "metadata": {},
   "outputs": [
    {
     "name": "stdout",
     "output_type": "stream",
     "text": [
      "Order Statistics: Total Products Ordered: 3 , Percentage of Products Ordered: 8.571428571428571\n"
     ]
    }
   ],
   "source": [
    "Total_Products_Ordered = len(customer_orders)\n",
    "total_available_products = sum(inventory.values())\n",
    "percent_orders = (Total_Products_Ordered / total_available_products *100)\n",
    "order_status=(Total_Products_Ordered,percent_orders)\n",
    "print(f'Order Statistics: Total Products Ordered: {order_status[0]} , Percentage of Products Ordered: {order_status[1]}')"
   ]
  },
  {
   "cell_type": "code",
   "execution_count": 67,
   "metadata": {},
   "outputs": [
    {
     "name": "stdout",
     "output_type": "stream",
     "text": [
      "{'t-shirt': 6, 'mug': 4, 'hat': 6, 'book': 7, 'keychain': 9}\n"
     ]
    }
   ],
   "source": [
    "for key,values in inventory.items():\n",
    "    if key in customer_orders:\n",
    "        inventory[key]= values -1\n",
    "print(inventory)\n"
   ]
  },
  {
   "cell_type": "code",
   "execution_count": null,
   "metadata": {},
   "outputs": [],
   "source": []
  }
 ],
 "metadata": {
  "kernelspec": {
   "display_name": "Python 3 (ipykernel)",
   "language": "python",
   "name": "python3"
  },
  "language_info": {
   "codemirror_mode": {
    "name": "ipython",
    "version": 3
   },
   "file_extension": ".py",
   "mimetype": "text/x-python",
   "name": "python",
   "nbconvert_exporter": "python",
   "pygments_lexer": "ipython3",
   "version": "3.11.5"
  }
 },
 "nbformat": 4,
 "nbformat_minor": 4
}
